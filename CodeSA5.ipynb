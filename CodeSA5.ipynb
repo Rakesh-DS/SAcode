{
 "cells": [
  {
   "cell_type": "code",
   "execution_count": 36,
   "metadata": {},
   "outputs": [],
   "source": [
    "import spacy\n",
    "from spacy import displacy\n",
    "spacy.load(\"en_core_web_sm\")\n",
    "from spacy.lang.en.stop_words import STOP_WORDS"
   ]
  },
  {
   "cell_type": "code",
   "execution_count": 37,
   "metadata": {},
   "outputs": [],
   "source": [
    "#importing necessary libraries\n",
    "import pandas as pd\n",
    "import numpy as np\n",
    "from sklearn.feature_extraction.text import TfidfVectorizer\n",
    "from sklearn.model_selection import train_test_split\n",
    "from sklearn.pipeline import Pipeline\n",
    "from sklearn.metrics import classification_report,confusion_matrix,accuracy_score"
   ]
  },
  {
   "cell_type": "code",
   "execution_count": 38,
   "metadata": {},
   "outputs": [],
   "source": [
    "# Navigating to file location\n",
    "import os\n",
    "os.chdir(\"E:/\")"
   ]
  },
  {
   "cell_type": "code",
   "execution_count": 39,
   "metadata": {},
   "outputs": [],
   "source": [
    "# Reading data\n",
    "data=pd.read_excel(\"Book1.xlsx\")"
   ]
  },
  {
   "cell_type": "code",
   "execution_count": 40,
   "metadata": {},
   "outputs": [
    {
     "data": {
      "text/html": [
       "<div>\n",
       "<style scoped>\n",
       "    .dataframe tbody tr th:only-of-type {\n",
       "        vertical-align: middle;\n",
       "    }\n",
       "\n",
       "    .dataframe tbody tr th {\n",
       "        vertical-align: top;\n",
       "    }\n",
       "\n",
       "    .dataframe thead th {\n",
       "        text-align: right;\n",
       "    }\n",
       "</style>\n",
       "<table border=\"1\" class=\"dataframe\">\n",
       "  <thead>\n",
       "    <tr style=\"text-align: right;\">\n",
       "      <th></th>\n",
       "      <th>Reviews</th>\n",
       "      <th>Sentiments</th>\n",
       "    </tr>\n",
       "  </thead>\n",
       "  <tbody>\n",
       "    <tr>\n",
       "      <th>0</th>\n",
       "      <td>We do not handle this issue. I'd now transfer ...</td>\n",
       "      <td>neutral</td>\n",
       "    </tr>\n",
       "    <tr>\n",
       "      <th>1</th>\n",
       "      <td>Not really, but they do seem to have more 'jui...</td>\n",
       "      <td>neutral</td>\n",
       "    </tr>\n",
       "    <tr>\n",
       "      <th>2</th>\n",
       "      <td>We use alot of batteries between my boys and t...</td>\n",
       "      <td>neutral</td>\n",
       "    </tr>\n",
       "    <tr>\n",
       "      <th>3</th>\n",
       "      <td>I bought this to replace a damaged much more e...</td>\n",
       "      <td>neutral</td>\n",
       "    </tr>\n",
       "    <tr>\n",
       "      <th>4</th>\n",
       "      <td>Love this amazon did a great job with design f...</td>\n",
       "      <td>happy</td>\n",
       "    </tr>\n",
       "    <tr>\n",
       "      <th>5</th>\n",
       "      <td>Completely satisfied with the Amazon Fire TV. ...</td>\n",
       "      <td>happy</td>\n",
       "    </tr>\n",
       "    <tr>\n",
       "      <th>6</th>\n",
       "      <td>Fun to use for recipes, conversions while cook...</td>\n",
       "      <td>happy</td>\n",
       "    </tr>\n",
       "    <tr>\n",
       "      <th>7</th>\n",
       "      <td>Convenient to use for music, news reports and ...</td>\n",
       "      <td>happy</td>\n",
       "    </tr>\n",
       "    <tr>\n",
       "      <th>8</th>\n",
       "      <td>The music and weather reports are terrific in ...</td>\n",
       "      <td>happy</td>\n",
       "    </tr>\n",
       "    <tr>\n",
       "      <th>9</th>\n",
       "      <td>great for finding local info while traveling. ...</td>\n",
       "      <td>happy</td>\n",
       "    </tr>\n",
       "  </tbody>\n",
       "</table>\n",
       "</div>"
      ],
      "text/plain": [
       "                                             Reviews Sentiments\n",
       "0  We do not handle this issue. I'd now transfer ...    neutral\n",
       "1  Not really, but they do seem to have more 'jui...    neutral\n",
       "2  We use alot of batteries between my boys and t...    neutral\n",
       "3  I bought this to replace a damaged much more e...    neutral\n",
       "4  Love this amazon did a great job with design f...      happy\n",
       "5  Completely satisfied with the Amazon Fire TV. ...      happy\n",
       "6  Fun to use for recipes, conversions while cook...      happy\n",
       "7  Convenient to use for music, news reports and ...      happy\n",
       "8  The music and weather reports are terrific in ...      happy\n",
       "9  great for finding local info while traveling. ...      happy"
      ]
     },
     "execution_count": 40,
     "metadata": {},
     "output_type": "execute_result"
    }
   ],
   "source": [
    "data.head(10)"
   ]
  },
  {
   "cell_type": "code",
   "execution_count": 41,
   "metadata": {},
   "outputs": [
    {
     "data": {
      "text/plain": [
       "(35, 2)"
      ]
     },
     "execution_count": 41,
     "metadata": {},
     "output_type": "execute_result"
    }
   ],
   "source": [
    "data.shape"
   ]
  },
  {
   "cell_type": "code",
   "execution_count": 42,
   "metadata": {},
   "outputs": [
    {
     "data": {
      "text/plain": [
       "disgust     7\n",
       "fear        7\n",
       "happy       6\n",
       "anger       5\n",
       "neutral     4\n",
       "surprise    3\n",
       "sad         3\n",
       "Name: Sentiments, dtype: int64"
      ]
     },
     "execution_count": 42,
     "metadata": {},
     "output_type": "execute_result"
    }
   ],
   "source": [
    "# Sentiments values counts\n",
    "data[\"Sentiments\"].value_counts()"
   ]
  },
  {
   "cell_type": "code",
   "execution_count": 43,
   "metadata": {},
   "outputs": [
    {
     "data": {
      "text/plain": [
       "Reviews       0\n",
       "Sentiments    0\n",
       "dtype: int64"
      ]
     },
     "execution_count": 43,
     "metadata": {},
     "output_type": "execute_result"
    }
   ],
   "source": [
    "# checking for null values\n",
    "data.isnull().sum()"
   ]
  },
  {
   "cell_type": "code",
   "execution_count": 44,
   "metadata": {},
   "outputs": [
    {
     "data": {
      "text/plain": [
       "'!\"#$%&\\'()*+,-./:;<=>?@[\\\\]^_`{|}~'"
      ]
     },
     "execution_count": 44,
     "metadata": {},
     "output_type": "execute_result"
    }
   ],
   "source": [
    "#Tokenisation\n",
    "# Tokenization\n",
    "import string\n",
    "Punct=string.punctuation\n",
    "Punct"
   ]
  },
  {
   "cell_type": "code",
   "execution_count": 45,
   "metadata": {},
   "outputs": [],
   "source": [
    "# Data cleaning\n",
    "def text_data_cleaning(sentence):\n",
    "    doc=nlp(sentence)\n",
    "    \n",
    "    tokens=[]\n",
    "    for token in doc:\n",
    "        if token.lemma_!=\"PRON\":\n",
    "            temp=token.lemma_.lower().strip()\n",
    "        else:\n",
    "            temp=token.lower_\n",
    "        tokens.append(temp)\n",
    "        \n",
    "        cleaned_tokens=[]\n",
    "        for token in tokens:\n",
    "            if token not in STOP_WORDS and token not in Punct:\n",
    "                cleaned_tokens.append(token)\n",
    "            return cleaned_tokens"
   ]
  },
  {
   "cell_type": "code",
   "execution_count": 51,
   "metadata": {},
   "outputs": [],
   "source": [
    "# Model Building\n",
    "from sklearn.svm import LinearSVC\n",
    "tfidf=TfidfVectorizer()\n",
    "model=LinearSVC()"
   ]
  },
  {
   "cell_type": "code",
   "execution_count": 52,
   "metadata": {},
   "outputs": [],
   "source": [
    "# Defining independent & dependent variables\n",
    "x=data[\"Reviews\"]\n",
    "y=data[\"Sentiments\"]"
   ]
  },
  {
   "cell_type": "code",
   "execution_count": 329,
   "metadata": {},
   "outputs": [],
   "source": [
    "#train testsplit\n",
    "x_train,x_test,y_train,y_test=train_test_split(x,y,test_size=0.2,random_state=71)"
   ]
  },
  {
   "cell_type": "code",
   "execution_count": 330,
   "metadata": {},
   "outputs": [],
   "source": [
    "Classifier=Pipeline([(\"tfidf\",tfidf),(\"model\",model)])"
   ]
  },
  {
   "cell_type": "code",
   "execution_count": 331,
   "metadata": {},
   "outputs": [
    {
     "data": {
      "text/plain": [
       "Pipeline(steps=[('tfidf', TfidfVectorizer()), ('model', LinearSVC())])"
      ]
     },
     "execution_count": 331,
     "metadata": {},
     "output_type": "execute_result"
    }
   ],
   "source": [
    "Classifier.fit(x_train,y_train)"
   ]
  },
  {
   "cell_type": "code",
   "execution_count": 332,
   "metadata": {},
   "outputs": [],
   "source": [
    "y_pred=Classifier.predict(x_test)"
   ]
  },
  {
   "cell_type": "code",
   "execution_count": 339,
   "metadata": {},
   "outputs": [
    {
     "name": "stdout",
     "output_type": "stream",
     "text": [
      "              precision    recall  f1-score   support\n",
      "\n",
      "     disgust       1.00      0.50      0.67         2\n",
      "        fear       0.50      1.00      0.67         1\n",
      "       happy       1.00      1.00      1.00         2\n",
      "     neutral       1.00      1.00      1.00         1\n",
      "    surprise       1.00      1.00      1.00         1\n",
      "\n",
      "    accuracy                           0.86         7\n",
      "   macro avg       0.90      0.90      0.87         7\n",
      "weighted avg       0.93      0.86      0.86         7\n",
      " 0.8571428571428571\n"
     ]
    }
   ],
   "source": [
    "print(classification_report(y_test,y_pred),accuracy_score(y_test,y_pred))"
   ]
  },
  {
   "cell_type": "code",
   "execution_count": 353,
   "metadata": {},
   "outputs": [],
   "source": [
    "# Test"
   ]
  },
  {
   "cell_type": "code",
   "execution_count": 341,
   "metadata": {},
   "outputs": [
    {
     "name": "stdout",
     "output_type": "stream",
     "text": [
      "['anger']\n"
     ]
    }
   ],
   "source": [
    "print(Classifier.predict([\"He made me wait for 1 hour without informing\"]))"
   ]
  },
  {
   "cell_type": "code",
   "execution_count": 344,
   "metadata": {},
   "outputs": [
    {
     "name": "stdout",
     "output_type": "stream",
     "text": [
      "['surprise']\n"
     ]
    }
   ],
   "source": [
    "print(Classifier.predict([\"wow officially i have no life this month! LOL my friends dont believe me when i say they need to BOOK IN ADVANCE!\"]))"
   ]
  },
  {
   "cell_type": "code",
   "execution_count": 345,
   "metadata": {},
   "outputs": [
    {
     "name": "stdout",
     "output_type": "stream",
     "text": [
      "['fear']\n"
     ]
    }
   ],
   "source": [
    "print(Classifier.predict([\"there was a swelling which  is dangerous to the patient hence I became afraid.\"]))"
   ]
  },
  {
   "cell_type": "code",
   "execution_count": 346,
   "metadata": {},
   "outputs": [
    {
     "name": "stdout",
     "output_type": "stream",
     "text": [
      "['disgust']\n"
     ]
    }
   ],
   "source": [
    "print(Classifier.predict([\"When I take a look into a slaughter-house and when listening to stories about torturing people or animals.\"]))"
   ]
  },
  {
   "cell_type": "code",
   "execution_count": 348,
   "metadata": {},
   "outputs": [
    {
     "name": "stdout",
     "output_type": "stream",
     "text": [
      "['neutral']\n"
     ]
    }
   ],
   "source": [
    "print(Classifier.predict([\"Not really, but they do seem to have more 'juice' than the national brands, if that is possible.\"]))"
   ]
  },
  {
   "cell_type": "code",
   "execution_count": 351,
   "metadata": {},
   "outputs": [
    {
     "name": "stdout",
     "output_type": "stream",
     "text": [
      "['happy']\n"
     ]
    }
   ],
   "source": [
    "print(Classifier.predict([\"Completely satisfied with the Amazon Fire TV. I'll never go back to cable TV again.\"]))"
   ]
  },
  {
   "cell_type": "code",
   "execution_count": 352,
   "metadata": {},
   "outputs": [
    {
     "name": "stdout",
     "output_type": "stream",
     "text": [
      "['happy']\n"
     ]
    }
   ],
   "source": [
    "print(Classifier.predict([\"great for finding local info while traveling. Useful for weather and morning news brief.\"]))"
   ]
  },
  {
   "cell_type": "code",
   "execution_count": null,
   "metadata": {},
   "outputs": [],
   "source": []
  }
 ],
 "metadata": {
  "kernelspec": {
   "display_name": "Python 3",
   "language": "python",
   "name": "python3"
  },
  "language_info": {
   "codemirror_mode": {
    "name": "ipython",
    "version": 3
   },
   "file_extension": ".py",
   "mimetype": "text/x-python",
   "name": "python",
   "nbconvert_exporter": "python",
   "pygments_lexer": "ipython3",
   "version": "3.7.4"
  }
 },
 "nbformat": 4,
 "nbformat_minor": 2
}
